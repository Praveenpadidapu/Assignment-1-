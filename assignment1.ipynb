{
  "nbformat": 4,
  "nbformat_minor": 0,
  "metadata": {
    "colab": {
      "provenance": [],
      "authorship_tag": "ABX9TyMLxxu3FvtmJ1dTkLBbJEDM",
      "include_colab_link": true
    },
    "kernelspec": {
      "name": "python3",
      "display_name": "Python 3"
    },
    "language_info": {
      "name": "python"
    }
  },
  "cells": [
    {
      "cell_type": "markdown",
      "metadata": {
        "id": "view-in-github",
        "colab_type": "text"
      },
      "source": [
        "<a href=\"https://colab.research.google.com/github/Praveenpadidapu/Assignment-1-/blob/main/assignment1.ipynb\" target=\"_parent\"><img src=\"https://colab.research.google.com/assets/colab-badge.svg\" alt=\"Open In Colab\"/></a>"
      ]
    },
    {
      "cell_type": "markdown",
      "source": [
        "Perform arithmetic operations on NumPy arrays."
      ],
      "metadata": {
        "id": "O9TYl-yEfqLg"
      }
    },
    {
      "cell_type": "code",
      "source": [
        "import numpy as np\n",
        "data1=np.array([1,2,3,4,5])\n",
        "data2=np.array([6,7,8,9,10])\n",
        "print(\"first data\",data1)\n",
        "print(\"secound data\",data2)\n",
        "#addition of two arrays\n",
        "print(\"addition of two given data\",(data1+data2))\n",
        "#subtraction of two arrays\n",
        "print(\"subctraction of two given arrays\",(data1-data2))\n",
        "#multiplication of two arrays\n",
        "print(\"multiplication of two given arrays\",(data1*data2))\n",
        "#modules of two arrays\n",
        "print(\"modules of two  given arrays\",(data1%data2))\n",
        "#addition between two index\n",
        "print(\"addition between two index\",(data1[1]+data2[2]))\n",
        "#multiplication between two index\n",
        "print(\"multiplication between two index\",(data2[2]*data2[3]))"
      ],
      "metadata": {
        "colab": {
          "base_uri": "https://localhost:8080/"
        },
        "id": "I-MqGljBfsrl",
        "outputId": "74c6b85c-d9db-4915-8e43-8fd4e226685d"
      },
      "execution_count": 9,
      "outputs": [
        {
          "output_type": "stream",
          "name": "stdout",
          "text": [
            "first data [1 2 3 4 5]\n",
            "secound data [ 6  7  8  9 10]\n",
            "addition of two given data [ 7  9 11 13 15]\n",
            "subctraction of two given arrays [-5 -5 -5 -5 -5]\n",
            "multiplication of two given arrays [ 6 14 24 36 50]\n",
            "modules of two  given arrays [1 2 3 4 5]\n",
            "addition between two index 10\n",
            "multiplication between two index 72\n"
          ]
        }
      ]
    },
    {
      "cell_type": "code",
      "execution_count": null,
      "metadata": {
        "id": "86xWZZQseiKu"
      },
      "outputs": [],
      "source": []
    },
    {
      "cell_type": "markdown",
      "source": [
        "Write a script to compute the mean and standard deviation of a NumPy array."
      ],
      "metadata": {
        "id": "CJfb9sLejTNa"
      }
    },
    {
      "cell_type": "code",
      "source": [
        "import numpy as np\n",
        "data=np.array([23,45,32,12,47])\n",
        "# mean\n",
        "print(\"mean of given data :\",data.mean())\n",
        "#standard deviation\n",
        "data1=np.array([89,65,0,32,54,21])\n",
        "print(\"standard deviation of given data\",np.std(data1))\n"
      ],
      "metadata": {
        "colab": {
          "base_uri": "https://localhost:8080/"
        },
        "id": "6WcqFWzijaw6",
        "outputId": "3c1434c5-4a05-4744-b3ab-ec55ae8eb08c"
      },
      "execution_count": 15,
      "outputs": [
        {
          "output_type": "stream",
          "name": "stdout",
          "text": [
            "mean of given data : 31.8\n",
            "standard deviation of given data 29.364093720052047\n"
          ]
        }
      ]
    },
    {
      "cell_type": "markdown",
      "source": [
        " Create a NumPy array of integers from 10 to 50 with a step size of 5."
      ],
      "metadata": {
        "id": "1FHLhpKgkju0"
      }
    },
    {
      "cell_type": "code",
      "source": [
        "import numpy as np\n",
        "data=np.arange(10,50,5)\n",
        "print(\"numbers between 10 and 50 with difference 5 :\",data)\n",
        "print(\"resize of numbers as \",data.reshape(4,2))\n",
        "print(\"resize of numbers as another form\",data.reshape(2,4))"
      ],
      "metadata": {
        "colab": {
          "base_uri": "https://localhost:8080/"
        },
        "id": "jboWu4LekoCv",
        "outputId": "18aeefc1-426a-42e4-d66b-d3fd72308ad7"
      },
      "execution_count": 19,
      "outputs": [
        {
          "output_type": "stream",
          "name": "stdout",
          "text": [
            "numbers between 10 and 50 with difference 5 : [10 15 20 25 30 35 40 45]\n",
            "resize of numbers as  [[10 15]\n",
            " [20 25]\n",
            " [30 35]\n",
            " [40 45]]\n",
            "resize of numbers as another form [[10 15 20 25]\n",
            " [30 35 40 45]]\n"
          ]
        }
      ]
    },
    {
      "cell_type": "markdown",
      "source": [
        "Reshape the array into a 2x4 matrix."
      ],
      "metadata": {
        "id": "sWJ2oJNzldb_"
      }
    },
    {
      "cell_type": "code",
      "source": [
        "import numpy as np\n",
        "data=np.array([1,2,3,4,5,6,7,8])\n",
        "print(\"elements of array :\",data)\n",
        "print(\"original shape of array :\",data.shape)\n",
        "print(\"Reshape the array into a 2x4 matrix.\",data.reshape(2,4))\n"
      ],
      "metadata": {
        "colab": {
          "base_uri": "https://localhost:8080/"
        },
        "id": "eJGgXgs9legG",
        "outputId": "61ecbc6a-8078-415e-f60e-96160aa58463"
      },
      "execution_count": 20,
      "outputs": [
        {
          "output_type": "stream",
          "name": "stdout",
          "text": [
            "elements of array : [1 2 3 4 5 6 7 8]\n",
            "original shape of array : (8,)\n",
            "Reshape the array into a 2x4 matrix. [[1 2 3 4]\n",
            " [5 6 7 8]]\n"
          ]
        }
      ]
    },
    {
      "cell_type": "markdown",
      "source": [
        "Given the array arr = np.array([[1, 2, 3], [4, 5, 6], [7, 8, 9]]):\n",
        "• Extract the sub-matrix containing the last two rows and first two columns."
      ],
      "metadata": {
        "id": "A5IYrcIwmmXQ"
      }
    },
    {
      "cell_type": "code",
      "source": [
        "import numpy as np\n",
        "data=np.array([[1, 2, 3], [4, 5, 6], [7, 8, 9]])\n",
        "print(\"original array :\",data)\n",
        "#Extract the sub-matrix containing the last two rows and first two columns.\n",
        "print(\"sub-matrix containing the last two rows and first two columns \",data[-2:, :2])"
      ],
      "metadata": {
        "colab": {
          "base_uri": "https://localhost:8080/"
        },
        "id": "qTCmilV-mnOF",
        "outputId": "0e32e639-0013-4e87-b80b-c36b9675872e"
      },
      "execution_count": 23,
      "outputs": [
        {
          "output_type": "stream",
          "name": "stdout",
          "text": [
            "original array : [[1 2 3]\n",
            " [4 5 6]\n",
            " [7 8 9]]\n",
            "sub-matrix containing the last two rows and first two columns  [[4 5]\n",
            " [7 8]]\n"
          ]
        }
      ]
    },
    {
      "cell_type": "markdown",
      "source": [
        "Given the array arr = np.array([[1, 2, 3], [4, 5, 6], [7, 8, 9]]):\n",
        " Replace all elements greater than 4 with 0."
      ],
      "metadata": {
        "id": "HJY5XBmAo0PY"
      }
    },
    {
      "cell_type": "code",
      "source": [
        "import numpy as np\n",
        "data=np.array([[1, 2, 3], [4, 5, 6], [7, 8, 9]])\n",
        "print(\"original array :\",data)\n",
        "four=np.where(data>4,0,data)\n",
        "print(\"replacing all elements with zero where grester than 4 :\",four)\n",
        "data[data>4]=0\n",
        "print(\"another method\")\n",
        "print(data)\n"
      ],
      "metadata": {
        "colab": {
          "base_uri": "https://localhost:8080/"
        },
        "id": "zygUh9i8pAjE",
        "outputId": "40ea0517-7c2d-4226-9263-215e546202cb"
      },
      "execution_count": 27,
      "outputs": [
        {
          "output_type": "stream",
          "name": "stdout",
          "text": [
            "original array : [[1 2 3]\n",
            " [4 5 6]\n",
            " [7 8 9]]\n",
            "replacing all elements with zero where grester than 4 : [[1 2 3]\n",
            " [4 0 0]\n",
            " [0 0 0]]\n",
            "another method\n",
            "[[1 2 3]\n",
            " [4 0 0]\n",
            " [0 0 0]]\n"
          ]
        }
      ]
    },
    {
      "cell_type": "markdown",
      "source": [
        " Create two 1D arrays:\n",
        "• a = np.array([1, 2, 3])\n",
        "• b = np.array([4, 5, 6])\n",
        "• Perform element-wise addition, multiplication, and division."
      ],
      "metadata": {
        "id": "vIsx_-mJq53w"
      }
    },
    {
      "cell_type": "code",
      "source": [
        "import numpy as np\n",
        "a = np.array([1, 2, 3])\n",
        "b = np.array([4, 5, 6])\n",
        "print(\"element wise addition,subtrction,division\")\n",
        "add=a+b\n",
        "print(\"addition \",add)\n",
        "mul=a*b\n",
        "print(\"multiplication \",mul)\n",
        "div=a/b\n",
        "print(\"division \",div)\n"
      ],
      "metadata": {
        "colab": {
          "base_uri": "https://localhost:8080/"
        },
        "id": "uWHfnABIq6zH",
        "outputId": "fb65c6f0-d3a9-462b-8e86-7878724ab8d5"
      },
      "execution_count": 30,
      "outputs": [
        {
          "output_type": "stream",
          "name": "stdout",
          "text": [
            "element wise addition,subtrction,division\n",
            "addition  [5 7 9]\n",
            "multiplication  [ 4 10 18]\n",
            "division  [0.25 0.4  0.5 ]\n"
          ]
        }
      ]
    },
    {
      "cell_type": "markdown",
      "source": [
        "Create a random NumPy array of size (4, 4). Compute:\n",
        "• Mean of each column."
      ],
      "metadata": {
        "id": "AD6Rfj9AsCbD"
      }
    },
    {
      "cell_type": "code",
      "source": [
        "import numpy as np\n",
        "data=np.random.rand(4,4)\n",
        "print(data)\n",
        "print(\"overal mean \",data.mean())\n",
        "column=np.mean(data,axis=0)\n",
        "print(\"column wise \",column)\n",
        "row=np.mean(data,axis=1)\n",
        "print(\"row wise \",row)"
      ],
      "metadata": {
        "colab": {
          "base_uri": "https://localhost:8080/"
        },
        "id": "zHl-fvvzsDZW",
        "outputId": "981c34f4-2d66-4955-b001-14234886f58e"
      },
      "execution_count": 38,
      "outputs": [
        {
          "output_type": "stream",
          "name": "stdout",
          "text": [
            "[[0.38133595 0.80769919 0.70492256 0.91481684]\n",
            " [0.78036427 0.95384162 0.96041825 0.82399724]\n",
            " [0.07474653 0.51396492 0.31886232 0.16321954]\n",
            " [0.64233865 0.40813084 0.65095668 0.28585475]]\n",
            "overal mean  0.5865918851900698\n",
            "column wise  [0.46969635 0.67090914 0.65878995 0.54697209]\n",
            "row wise  [0.70219364 0.87965534 0.26769833 0.49682023]\n"
          ]
        }
      ]
    },
    {
      "cell_type": "markdown",
      "source": [
        "\n",
        "Create a random NumPy array of size (4, 4).\n",
        "Maximum value of the entire array.\n",
        "> Add blockquote\n",
        "\n"
      ],
      "metadata": {
        "id": "0DeMl1mht25X"
      }
    },
    {
      "cell_type": "code",
      "source": [
        "import numpy as np\n",
        "data=np.random.rand(4,4)\n",
        "print(data)\n",
        "print(\"maximum of all array is :\",data.max())"
      ],
      "metadata": {
        "colab": {
          "base_uri": "https://localhost:8080/"
        },
        "id": "LncjxVLqt9LD",
        "outputId": "d0d05035-ddd7-450f-d6d5-9843fc1d8963"
      },
      "execution_count": 40,
      "outputs": [
        {
          "output_type": "stream",
          "name": "stdout",
          "text": [
            "[[0.98156936 0.70493066 0.11721196 0.57906422]\n",
            " [0.88597596 0.21800345 0.60116152 0.64946315]\n",
            " [0.14173208 0.59039125 0.95432165 0.32307288]\n",
            " [0.01240549 0.4630181  0.1660377  0.81797543]]\n",
            "maximum of all array is : 0.9815693596692999\n"
          ]
        }
      ]
    },
    {
      "cell_type": "code",
      "source": [],
      "metadata": {
        "id": "IOSGKsYhuAqO"
      },
      "execution_count": null,
      "outputs": []
    },
    {
      "cell_type": "markdown",
      "source": [
        "Create a random NumPy array of size (4, 4)\n",
        "Sum of all elements."
      ],
      "metadata": {
        "id": "2wFS9GwYuLwy"
      }
    },
    {
      "cell_type": "code",
      "source": [
        "import numpy as np\n",
        "data=np.random.rand(4,4)\n",
        "print(data)\n",
        "print(\"sum of all data in arrays :\",np.sum(data))"
      ],
      "metadata": {
        "colab": {
          "base_uri": "https://localhost:8080/"
        },
        "id": "FQ3vc-NguTzX",
        "outputId": "ce6c7e19-44c4-4340-daae-183b5768fdb8"
      },
      "execution_count": 42,
      "outputs": [
        {
          "output_type": "stream",
          "name": "stdout",
          "text": [
            "[[0.87122375 0.2119001  0.56986248 0.48431341]\n",
            " [0.57856546 0.83475518 0.48518933 0.40340528]\n",
            " [0.98856415 0.80508598 0.98971166 0.05038438]\n",
            " [0.4000407  0.39604169 0.12462442 0.79177296]]\n",
            "sum of all data in arrays : 8.985440919196815\n"
          ]
        }
      ]
    },
    {
      "cell_type": "markdown",
      "source": [
        " Given the array arr = np.array([1, 2, 3, 4]), add 10 to each element and multiply\n",
        "the result by 2."
      ],
      "metadata": {
        "id": "F0RrD55Tu5Fq"
      }
    },
    {
      "cell_type": "code",
      "source": [
        "import numpy as np\n",
        "data=np.array([1,2,3,4])\n",
        "for i in np.nditer(data):\n",
        "  j=i+10\n",
        "  k=j*2\n",
        "  print(k)"
      ],
      "metadata": {
        "colab": {
          "base_uri": "https://localhost:8080/"
        },
        "id": "G0s2moc1u8JX",
        "outputId": "2eb41026-6e72-4330-da6d-2d6fbb757254"
      },
      "execution_count": 46,
      "outputs": [
        {
          "output_type": "stream",
          "name": "stdout",
          "text": [
            "22\n",
            "24\n",
            "26\n",
            "28\n"
          ]
        }
      ]
    },
    {
      "cell_type": "markdown",
      "source": [
        "Create a 3D NumPy array arr of shape (3, 4, 5) with random integers ranging from\n",
        "1 to 100.\n",
        "• Extract the first two rows and the last three columns from each \"layer.\"\n"
      ],
      "metadata": {
        "id": "jxsnyY_Z7Pqk"
      }
    },
    {
      "cell_type": "code",
      "source": [
        "import numpy as np\n",
        "data=np.random.randint(1,101,size=(3,4,5))\n",
        "print(data)\n",
        "extract=data[:2,-3:]\n",
        "print(\"the first two rows and the last three columns \",extract)"
      ],
      "metadata": {
        "colab": {
          "base_uri": "https://localhost:8080/"
        },
        "id": "76_RfqU78Ofp",
        "outputId": "0bbf6fd2-dac4-48c2-9688-cd70a737dfb0"
      },
      "execution_count": 52,
      "outputs": [
        {
          "output_type": "stream",
          "name": "stdout",
          "text": [
            "[[[ 96  59  68  90  52]\n",
            "  [ 48  83 100  34  78]\n",
            "  [ 27  31   7  35   1]\n",
            "  [ 63  56  38  46  13]]\n",
            "\n",
            " [[ 90  24  47  88  98]\n",
            "  [ 58  72  27  44  75]\n",
            "  [ 73   8  31  84  94]\n",
            "  [ 24  58  50  70  28]]\n",
            "\n",
            " [[ 19  29  97  10  27]\n",
            "  [  3   2  16  87  32]\n",
            "  [ 17  38  50  28  12]\n",
            "  [ 45  86  29  97  71]]]\n",
            "the first two rows and the last three columns  [[[ 48  83 100  34  78]\n",
            "  [ 27  31   7  35   1]\n",
            "  [ 63  56  38  46  13]]\n",
            "\n",
            " [[ 58  72  27  44  75]\n",
            "  [ 73   8  31  84  94]\n",
            "  [ 24  58  50  70  28]]]\n"
          ]
        }
      ]
    },
    {
      "cell_type": "markdown",
      "source": [
        "Replace all elements divisible by 3 with -1."
      ],
      "metadata": {
        "id": "b1R54SvzAfp-"
      }
    },
    {
      "cell_type": "code",
      "source": [
        "import numpy as np\n",
        "data=np.random.randint(1,101,size=(3,4,5))\n",
        "print(data)\n",
        "\n",
        "three=np.where(data%3==0,-1,data)\n",
        "print(\"repalcing with -1 :\",three)"
      ],
      "metadata": {
        "colab": {
          "base_uri": "https://localhost:8080/"
        },
        "id": "oECvUf9DAhKr",
        "outputId": "0ef26239-f909-4849-9e48-622075f9a677"
      },
      "execution_count": 53,
      "outputs": [
        {
          "output_type": "stream",
          "name": "stdout",
          "text": [
            "[[[ 94  80  84  73  87]\n",
            "  [ 31  75 100  37  99]\n",
            "  [ 80  45  94   7   3]\n",
            "  [ 40  76  42  36  50]]\n",
            "\n",
            " [[  7  31  41  16  50]\n",
            "  [  6  56  74  12  73]\n",
            "  [ 47   9  28  64  74]\n",
            "  [  9  66  10 100  75]]\n",
            "\n",
            " [[  8  14  32  62  80]\n",
            "  [ 63  17  61  79  58]\n",
            "  [ 50  97  79 100   6]\n",
            "  [  8  67  72   8   8]]]\n",
            "repalcing with -1 : [[[ 94  80  -1  73  -1]\n",
            "  [ 31  -1 100  37  -1]\n",
            "  [ 80  -1  94   7  -1]\n",
            "  [ 40  76  -1  -1  50]]\n",
            "\n",
            " [[  7  31  41  16  50]\n",
            "  [ -1  56  74  -1  73]\n",
            "  [ 47  -1  28  64  74]\n",
            "  [ -1  -1  10 100  -1]]\n",
            "\n",
            " [[  8  14  32  62  80]\n",
            "  [ -1  17  61  79  58]\n",
            "  [ 50  97  79 100  -1]\n",
            "  [  8  67  -1   8   8]]]\n"
          ]
        }
      ]
    },
    {
      "cell_type": "markdown",
      "source": [
        "Create a 3D NumPy array arr of shape (3, 4, 5) with random integers ranging from 1 to 100\n",
        "Extract the second \"layer\" (i.e., the second 2D array) in the first dimension."
      ],
      "metadata": {
        "id": "2vD38ErzB0-a"
      }
    },
    {
      "cell_type": "code",
      "source": [
        "import numpy as np\n",
        "data=np.random.randint(1,101,size=(3,4,5))\n",
        "print(data)\n",
        "secound=data[1,:,:]\n",
        "print(\"secound array :\",secound)"
      ],
      "metadata": {
        "colab": {
          "base_uri": "https://localhost:8080/"
        },
        "id": "C99gEg_2Df0A",
        "outputId": "c3784f6d-8b31-4e68-b5c0-11ee0c81c848"
      },
      "execution_count": 55,
      "outputs": [
        {
          "output_type": "stream",
          "name": "stdout",
          "text": [
            "[[[  9   8  34  24  49]\n",
            "  [ 44  55  48  48  41]\n",
            "  [ 57  46  45  49  76]\n",
            "  [ 27  61  92  74  41]]\n",
            "\n",
            " [[ 94   6  29  10  48]\n",
            "  [ 95  46  73   8  93]\n",
            "  [ 95  48  19  26  13]\n",
            "  [ 13  44  31  98  59]]\n",
            "\n",
            " [[ 11  37  60  34  49]\n",
            "  [ 20  70  60  99  83]\n",
            "  [100  23   4  34  17]\n",
            "  [ 80  23  75  45  51]]]\n",
            "secound array : [[94  6 29 10 48]\n",
            " [95 46 73  8 93]\n",
            " [95 48 19 26 13]\n",
            " [13 44 31 98 59]]\n"
          ]
        }
      ]
    },
    {
      "cell_type": "markdown",
      "source": [
        "Create a NumPy array arr of shape (3, 3) with random integers between  \n",
        "1 and 20. Perform the following:\n",
        "• Subtract the mean of each row from its respective elements (row-wise\n",
        "normalization)."
      ],
      "metadata": {
        "id": "ar_2DYKqIRJe"
      }
    },
    {
      "cell_type": "code",
      "source": [
        "import numpy as np\n",
        "data=np.random.randint(1,21,size=(3,3))\n",
        "print(data)\n",
        "row_mean=np.mean(data,axis=1)\n",
        "print(\"row vise: \",row)\n",
        "subtract=data-row_mean\n",
        "print(\"Subtract the mean of each row from its respective elements :\",subtract)"
      ],
      "metadata": {
        "colab": {
          "base_uri": "https://localhost:8080/"
        },
        "id": "gyj-dnvRIcIB",
        "outputId": "daae4d7d-b324-4f11-cc8c-27b9ef9a8b71"
      },
      "execution_count": 59,
      "outputs": [
        {
          "output_type": "stream",
          "name": "stdout",
          "text": [
            "[[ 8 12 18]\n",
            " [ 2 11  6]\n",
            " [ 3 16  4]]\n",
            "row vise:  [11.33333333  8.         13.66666667]\n",
            "Subtract the mean of each row from its respective elements : [[ -4.66666667   5.66666667  10.33333333]\n",
            " [-10.66666667   4.66666667  -1.66666667]\n",
            " [ -9.66666667   9.66666667  -3.66666667]]\n"
          ]
        }
      ]
    },
    {
      "cell_type": "markdown",
      "source": [
        "Create a NumPy array arr of shape (3, 3) with random integers between\n",
        "1 and 20.\n",
        " Create a new array by squaring all the elements in arr."
      ],
      "metadata": {
        "id": "S2ztSXBNKsc2"
      }
    },
    {
      "cell_type": "code",
      "source": [
        "import numpy as np\n",
        "data=np.random.randint(1,21,size=(3,3))\n",
        "print(data)\n",
        "square_array=data**2\n",
        "print(\"square array is:\",square_array)"
      ],
      "metadata": {
        "colab": {
          "base_uri": "https://localhost:8080/"
        },
        "id": "quiCNkkBK5Oy",
        "outputId": "bec0c27f-0c28-42a6-cc1b-868d54f0f6eb"
      },
      "execution_count": 60,
      "outputs": [
        {
          "output_type": "stream",
          "name": "stdout",
          "text": [
            "[[17  7 13]\n",
            " [15  5  7]\n",
            " [ 5 17 20]]\n",
            "square array is: [[289  49 169]\n",
            " [225  25  49]\n",
            " [ 25 289 400]]\n"
          ]
        }
      ]
    },
    {
      "cell_type": "markdown",
      "source": [
        "Create a NumPy array arr of shape (3, 3) with random integers between 1 and 20\n",
        "Find the indices of the top 3 maximum values in the entire array."
      ],
      "metadata": {
        "id": "0xqb-xJ0LKfP"
      }
    },
    {
      "cell_type": "code",
      "source": [
        "import numpy as np\n",
        "data=np.random.randint(1,21,size=(3,3))\n",
        "print(\"array : \",data)\n",
        "top_three=np.argpartition(data,-3)[-3:]\n",
        "print(\" indices of the top 3 maximum values :\",top_three)"
      ],
      "metadata": {
        "colab": {
          "base_uri": "https://localhost:8080/"
        },
        "id": "d2QQt5c_L_gd",
        "outputId": "c1e4281e-e947-4ac0-c950-4126bf9df4d5"
      },
      "execution_count": 63,
      "outputs": [
        {
          "output_type": "stream",
          "name": "stdout",
          "text": [
            "array :  [[ 5  4  4]\n",
            " [16  8 16]\n",
            " [13 10  4]]\n",
            " indices of the top 3 maximum values : [[1 0 2]\n",
            " [1 0 2]\n",
            " [2 1 0]]\n"
          ]
        }
      ]
    }
  ]
}