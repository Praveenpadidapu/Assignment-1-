{
  "nbformat": 4,
  "nbformat_minor": 0,
  "metadata": {
    "colab": {
      "provenance": [],
      "authorship_tag": "ABX9TyMfBosTWWxXFB+0COUt+Rlm",
      "include_colab_link": true
    },
    "kernelspec": {
      "name": "python3",
      "display_name": "Python 3"
    },
    "language_info": {
      "name": "python"
    }
  },
  "cells": [
    {
      "cell_type": "markdown",
      "metadata": {
        "id": "view-in-github",
        "colab_type": "text"
      },
      "source": [
        "<a href=\"https://colab.research.google.com/github/Praveenpadidapu/Assignment-1-/blob/main/assignment1.ipynb\" target=\"_parent\"><img src=\"https://colab.research.google.com/assets/colab-badge.svg\" alt=\"Open In Colab\"/></a>"
      ]
    },
    {
      "cell_type": "markdown",
      "source": [
        "Perform arithmetic operations on NumPy arrays."
      ],
      "metadata": {
        "id": "O9TYl-yEfqLg"
      }
    },
    {
      "cell_type": "code",
      "source": [
        "import numpy as np\n",
        "data1=np.array([1,2,3,4,5])\n",
        "data2=np.array([6,7,8,9,10])\n",
        "print(\"first data\",data1)\n",
        "print(\"secound data\",data2)\n",
        "#addition of two arrays\n",
        "print(\"addition of two given data\",(data1+data2))\n",
        "#subtraction of two arrays\n",
        "print(\"subctraction of two given arrays\",(data1-data2))\n",
        "#multiplication of two arrays\n",
        "print(\"multiplication of two given arrays\",(data1*data2))\n",
        "#modules of two arrays\n",
        "print(\"modules of two  given arrays\",(data1%data2))\n",
        "#addition between two index\n",
        "print(\"addition between two index\",(data1[1]+data2[2]))\n",
        "#multiplication between two index\n",
        "print(\"multiplication between two index\",(data2[2]*data2[3]))"
      ],
      "metadata": {
        "colab": {
          "base_uri": "https://localhost:8080/"
        },
        "id": "I-MqGljBfsrl",
        "outputId": "74c6b85c-d9db-4915-8e43-8fd4e226685d"
      },
      "execution_count": 9,
      "outputs": [
        {
          "output_type": "stream",
          "name": "stdout",
          "text": [
            "first data [1 2 3 4 5]\n",
            "secound data [ 6  7  8  9 10]\n",
            "addition of two given data [ 7  9 11 13 15]\n",
            "subctraction of two given arrays [-5 -5 -5 -5 -5]\n",
            "multiplication of two given arrays [ 6 14 24 36 50]\n",
            "modules of two  given arrays [1 2 3 4 5]\n",
            "addition between two index 10\n",
            "multiplication between two index 72\n"
          ]
        }
      ]
    },
    {
      "cell_type": "code",
      "execution_count": null,
      "metadata": {
        "id": "86xWZZQseiKu"
      },
      "outputs": [],
      "source": []
    },
    {
      "cell_type": "markdown",
      "source": [
        "Write a script to compute the mean and standard deviation of a NumPy array."
      ],
      "metadata": {
        "id": "CJfb9sLejTNa"
      }
    },
    {
      "cell_type": "code",
      "source": [
        "import numpy as np\n",
        "data=np.array([23,45,32,12,47])\n",
        "# mean\n",
        "print(\"mean of given data :\",data.mean())\n",
        "#standard deviation\n",
        "data1=np.array([89,65,0,32,54,21])\n",
        "print(\"standard deviation of given data\",np.std(data1))\n"
      ],
      "metadata": {
        "colab": {
          "base_uri": "https://localhost:8080/"
        },
        "id": "6WcqFWzijaw6",
        "outputId": "3c1434c5-4a05-4744-b3ab-ec55ae8eb08c"
      },
      "execution_count": 15,
      "outputs": [
        {
          "output_type": "stream",
          "name": "stdout",
          "text": [
            "mean of given data : 31.8\n",
            "standard deviation of given data 29.364093720052047\n"
          ]
        }
      ]
    },
    {
      "cell_type": "markdown",
      "source": [
        " Create a NumPy array of integers from 10 to 50 with a step size of 5."
      ],
      "metadata": {
        "id": "1FHLhpKgkju0"
      }
    },
    {
      "cell_type": "code",
      "source": [
        "import numpy as np\n",
        "data=np.arange(10,50,5)\n",
        "print(\"numbers between 10 and 50 with difference 5 :\",data)\n",
        "print(\"resize of numbers as \",data.reshape(4,2))\n",
        "print(\"resize of numbers as another form\",data.reshape(2,4))"
      ],
      "metadata": {
        "colab": {
          "base_uri": "https://localhost:8080/"
        },
        "id": "jboWu4LekoCv",
        "outputId": "18aeefc1-426a-42e4-d66b-d3fd72308ad7"
      },
      "execution_count": 19,
      "outputs": [
        {
          "output_type": "stream",
          "name": "stdout",
          "text": [
            "numbers between 10 and 50 with difference 5 : [10 15 20 25 30 35 40 45]\n",
            "resize of numbers as  [[10 15]\n",
            " [20 25]\n",
            " [30 35]\n",
            " [40 45]]\n",
            "resize of numbers as another form [[10 15 20 25]\n",
            " [30 35 40 45]]\n"
          ]
        }
      ]
    },
    {
      "cell_type": "markdown",
      "source": [
        "Reshape the array into a 2x4 matrix."
      ],
      "metadata": {
        "id": "sWJ2oJNzldb_"
      }
    },
    {
      "cell_type": "code",
      "source": [
        "import numpy as np\n",
        "data=np.array([1,2,3,4,5,6,7,8])\n",
        "print(\"elements of array :\",data)\n",
        "print(\"original shape of array :\",data.shape)\n",
        "print(\"Reshape the array into a 2x4 matrix.\",data.reshape(2,4))\n"
      ],
      "metadata": {
        "colab": {
          "base_uri": "https://localhost:8080/"
        },
        "id": "eJGgXgs9legG",
        "outputId": "61ecbc6a-8078-415e-f60e-96160aa58463"
      },
      "execution_count": 20,
      "outputs": [
        {
          "output_type": "stream",
          "name": "stdout",
          "text": [
            "elements of array : [1 2 3 4 5 6 7 8]\n",
            "original shape of array : (8,)\n",
            "Reshape the array into a 2x4 matrix. [[1 2 3 4]\n",
            " [5 6 7 8]]\n"
          ]
        }
      ]
    },
    {
      "cell_type": "markdown",
      "source": [
        "Given the array arr = np.array([[1, 2, 3], [4, 5, 6], [7, 8, 9]]):\n",
        "• Extract the sub-matrix containing the last two rows and first two columns."
      ],
      "metadata": {
        "id": "A5IYrcIwmmXQ"
      }
    },
    {
      "cell_type": "code",
      "source": [
        "import numpy as np\n",
        "data=np.array([[1, 2, 3], [4, 5, 6], [7, 8, 9]])\n",
        "print(\"original array :\",data)\n",
        "#Extract the sub-matrix containing the last two rows and first two columns.\n",
        "print(\"sub-matrix containing the last two rows and first two columns \",data[-2:, :2])"
      ],
      "metadata": {
        "colab": {
          "base_uri": "https://localhost:8080/"
        },
        "id": "qTCmilV-mnOF",
        "outputId": "0e32e639-0013-4e87-b80b-c36b9675872e"
      },
      "execution_count": 23,
      "outputs": [
        {
          "output_type": "stream",
          "name": "stdout",
          "text": [
            "original array : [[1 2 3]\n",
            " [4 5 6]\n",
            " [7 8 9]]\n",
            "sub-matrix containing the last two rows and first two columns  [[4 5]\n",
            " [7 8]]\n"
          ]
        }
      ]
    },
    {
      "cell_type": "markdown",
      "source": [
        "Given the array arr = np.array([[1, 2, 3], [4, 5, 6], [7, 8, 9]]):\n",
        " Replace all elements greater than 4 with 0."
      ],
      "metadata": {
        "id": "HJY5XBmAo0PY"
      }
    },
    {
      "cell_type": "code",
      "source": [
        "import numpy as np\n",
        "data=np.array([[1, 2, 3], [4, 5, 6], [7, 8, 9]])\n",
        "print(\"original array :\",data)\n",
        "four=np.where(data>4,0,data)\n",
        "print(\"replacing all elements with zero where grester than 4 :\",four)\n",
        "data[data>4]=0\n",
        "print(\"another method\")\n",
        "print(data)\n"
      ],
      "metadata": {
        "colab": {
          "base_uri": "https://localhost:8080/"
        },
        "id": "zygUh9i8pAjE",
        "outputId": "40ea0517-7c2d-4226-9263-215e546202cb"
      },
      "execution_count": 27,
      "outputs": [
        {
          "output_type": "stream",
          "name": "stdout",
          "text": [
            "original array : [[1 2 3]\n",
            " [4 5 6]\n",
            " [7 8 9]]\n",
            "replacing all elements with zero where grester than 4 : [[1 2 3]\n",
            " [4 0 0]\n",
            " [0 0 0]]\n",
            "another method\n",
            "[[1 2 3]\n",
            " [4 0 0]\n",
            " [0 0 0]]\n"
          ]
        }
      ]
    },
    {
      "cell_type": "markdown",
      "source": [
        " Create two 1D arrays:\n",
        "• a = np.array([1, 2, 3])\n",
        "• b = np.array([4, 5, 6])\n",
        "• Perform element-wise addition, multiplication, and division."
      ],
      "metadata": {
        "id": "vIsx_-mJq53w"
      }
    },
    {
      "cell_type": "code",
      "source": [
        "import numpy as np\n",
        "a = np.array([1, 2, 3])\n",
        "b = np.array([4, 5, 6])\n",
        "print(\"element wise addition,subtrction,division\")\n",
        "add=a+b\n",
        "print(\"addition \",add)\n",
        "mul=a*b\n",
        "print(\"multiplication \",mul)\n",
        "div=a/b\n",
        "print(\"division \",div)\n"
      ],
      "metadata": {
        "colab": {
          "base_uri": "https://localhost:8080/"
        },
        "id": "uWHfnABIq6zH",
        "outputId": "fb65c6f0-d3a9-462b-8e86-7878724ab8d5"
      },
      "execution_count": 30,
      "outputs": [
        {
          "output_type": "stream",
          "name": "stdout",
          "text": [
            "element wise addition,subtrction,division\n",
            "addition  [5 7 9]\n",
            "multiplication  [ 4 10 18]\n",
            "division  [0.25 0.4  0.5 ]\n"
          ]
        }
      ]
    },
    {
      "cell_type": "markdown",
      "source": [
        "Create a random NumPy array of size (4, 4). Compute:\n",
        "• Mean of each column."
      ],
      "metadata": {
        "id": "AD6Rfj9AsCbD"
      }
    },
    {
      "cell_type": "code",
      "source": [
        "import numpy as np\n",
        "data=np.random.rand(4,4)\n",
        "print(data)\n",
        "print(\"overal mean \",data.mean())\n",
        "column=np.mean(data,axis=0)\n",
        "print(\"column wise \",column)\n",
        "row=np.mean(data,axis=1)\n",
        "print(\"row wise \",row)"
      ],
      "metadata": {
        "colab": {
          "base_uri": "https://localhost:8080/"
        },
        "id": "zHl-fvvzsDZW",
        "outputId": "981c34f4-2d66-4955-b001-14234886f58e"
      },
      "execution_count": 38,
      "outputs": [
        {
          "output_type": "stream",
          "name": "stdout",
          "text": [
            "[[0.38133595 0.80769919 0.70492256 0.91481684]\n",
            " [0.78036427 0.95384162 0.96041825 0.82399724]\n",
            " [0.07474653 0.51396492 0.31886232 0.16321954]\n",
            " [0.64233865 0.40813084 0.65095668 0.28585475]]\n",
            "overal mean  0.5865918851900698\n",
            "column wise  [0.46969635 0.67090914 0.65878995 0.54697209]\n",
            "row wise  [0.70219364 0.87965534 0.26769833 0.49682023]\n"
          ]
        }
      ]
    },
    {
      "cell_type": "markdown",
      "source": [
        "\n",
        "Create a random NumPy array of size (4, 4).\n",
        "Maximum value of the entire array.\n",
        "> Add blockquote\n",
        "\n"
      ],
      "metadata": {
        "id": "0DeMl1mht25X"
      }
    },
    {
      "cell_type": "code",
      "source": [
        "import numpy as np\n",
        "data=np.random.rand(4,4)\n",
        "print(data)\n",
        "print(\"maximum of all array is :\",data.max())"
      ],
      "metadata": {
        "colab": {
          "base_uri": "https://localhost:8080/"
        },
        "id": "LncjxVLqt9LD",
        "outputId": "d0d05035-ddd7-450f-d6d5-9843fc1d8963"
      },
      "execution_count": 40,
      "outputs": [
        {
          "output_type": "stream",
          "name": "stdout",
          "text": [
            "[[0.98156936 0.70493066 0.11721196 0.57906422]\n",
            " [0.88597596 0.21800345 0.60116152 0.64946315]\n",
            " [0.14173208 0.59039125 0.95432165 0.32307288]\n",
            " [0.01240549 0.4630181  0.1660377  0.81797543]]\n",
            "maximum of all array is : 0.9815693596692999\n"
          ]
        }
      ]
    },
    {
      "cell_type": "code",
      "source": [],
      "metadata": {
        "id": "IOSGKsYhuAqO"
      },
      "execution_count": null,
      "outputs": []
    },
    {
      "cell_type": "markdown",
      "source": [
        "Create a random NumPy array of size (4, 4)\n",
        "Sum of all elements."
      ],
      "metadata": {
        "id": "2wFS9GwYuLwy"
      }
    },
    {
      "cell_type": "code",
      "source": [
        "import numpy as np\n",
        "data=np.random.rand(4,4)\n",
        "print(data)\n",
        "print(\"sum of all data in arrays :\",np.sum(data))"
      ],
      "metadata": {
        "colab": {
          "base_uri": "https://localhost:8080/"
        },
        "id": "FQ3vc-NguTzX",
        "outputId": "ce6c7e19-44c4-4340-daae-183b5768fdb8"
      },
      "execution_count": 42,
      "outputs": [
        {
          "output_type": "stream",
          "name": "stdout",
          "text": [
            "[[0.87122375 0.2119001  0.56986248 0.48431341]\n",
            " [0.57856546 0.83475518 0.48518933 0.40340528]\n",
            " [0.98856415 0.80508598 0.98971166 0.05038438]\n",
            " [0.4000407  0.39604169 0.12462442 0.79177296]]\n",
            "sum of all data in arrays : 8.985440919196815\n"
          ]
        }
      ]
    },
    {
      "cell_type": "markdown",
      "source": [
        " Given the array arr = np.array([1, 2, 3, 4]), add 10 to each element and multiply\n",
        "the result by 2."
      ],
      "metadata": {
        "id": "F0RrD55Tu5Fq"
      }
    },
    {
      "cell_type": "code",
      "source": [
        "import numpy as np\n",
        "data=np.array([1,2,3,4])\n",
        "for i in np.nditer(data):\n",
        "  j=i+10\n",
        "  k=j*2\n",
        "  print(k)"
      ],
      "metadata": {
        "colab": {
          "base_uri": "https://localhost:8080/"
        },
        "id": "G0s2moc1u8JX",
        "outputId": "2eb41026-6e72-4330-da6d-2d6fbb757254"
      },
      "execution_count": 46,
      "outputs": [
        {
          "output_type": "stream",
          "name": "stdout",
          "text": [
            "22\n",
            "24\n",
            "26\n",
            "28\n"
          ]
        }
      ]
    }
  ]
}