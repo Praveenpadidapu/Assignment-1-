{
  "nbformat": 4,
  "nbformat_minor": 0,
  "metadata": {
    "colab": {
      "provenance": [],
      "authorship_tag": "ABX9TyPZFpIULE7JI6aeTTJuddFP",
      "include_colab_link": true
    },
    "kernelspec": {
      "name": "python3",
      "display_name": "Python 3"
    },
    "language_info": {
      "name": "python"
    }
  },
  "cells": [
    {
      "cell_type": "markdown",
      "metadata": {
        "id": "view-in-github",
        "colab_type": "text"
      },
      "source": [
        "<a href=\"https://colab.research.google.com/github/Praveenpadidapu/ML-Assignments/blob/main/Assignment2.ipynb\" target=\"_parent\"><img src=\"https://colab.research.google.com/assets/colab-badge.svg\" alt=\"Open In Colab\"/></a>"
      ]
    },
    {
      "cell_type": "markdown",
      "source": [
        " Create a Pandas DataFrame from the following dictionary:\n",
        "data = {\n",
        "'Name': ['Alice', 'Bob', 'Carol'],\n",
        "'Age': [24, 27, 22],\n",
        "'Salary': [50000, 55000, 48000]\n",
        "}\n",
        "• Add a new column called Bonus which is 10% of the salary."
      ],
      "metadata": {
        "id": "_jgQ8N6hlAxs"
      }
    },
    {
      "cell_type": "code",
      "source": [
        "import pandas as pd\n",
        "import numpy as np\n",
        "data={ 'Name': ['Alice', 'Bob', 'Carol'], 'Age': [24, 27, 22], 'Salary': [50000, 55000, 48000]}\n",
        "df1=pd.DataFrame(data)\n",
        "print(df1)\n",
        "#adding bonus column\n",
        "print(\"after addition of column\")\n",
        "df1=df1.assign(Bonus=df1['Salary']*0.10)\n",
        "df1['Bonus']=df1['Salary']/10\n",
        "print(df1)"
      ],
      "metadata": {
        "colab": {
          "base_uri": "https://localhost:8080/"
        },
        "id": "c_34L2m7lJh9",
        "outputId": "35d572a4-da3d-411c-d7bb-e0754620b19c"
      },
      "execution_count": null,
      "outputs": [
        {
          "output_type": "stream",
          "name": "stdout",
          "text": [
            "    Name  Age  Salary\n",
            "0  Alice   24   50000\n",
            "1    Bob   27   55000\n",
            "2  Carol   22   48000\n",
            "after addition of column\n",
            "    Name  Age  Salary   Bonus\n",
            "0  Alice   24   50000  5000.0\n",
            "1    Bob   27   55000  5500.0\n",
            "2  Carol   22   48000  4800.0\n"
          ]
        }
      ]
    },
    {
      "cell_type": "markdown",
      "source": [
        "data = {\n",
        "'Name': ['Alice', 'Bob', 'Carol'],\n",
        "'Age': [24, 27, 22],\n",
        "'Salary': [50000, 55000, 48000]\n",
        "}\n",
        "Display the first two rows."
      ],
      "metadata": {
        "id": "nJEpnQwbnTOD"
      }
    },
    {
      "cell_type": "code",
      "execution_count": null,
      "metadata": {
        "colab": {
          "base_uri": "https://localhost:8080/"
        },
        "id": "z0PMByGNk08C",
        "outputId": "c6041ce8-43ab-4d07-a545-6210ac2d0f32"
      },
      "outputs": [
        {
          "output_type": "stream",
          "name": "stdout",
          "text": [
            "    Name  Age  Salary\n",
            "0  Alice   24   50000\n",
            "1    Bob   27   55000\n",
            "2  Carol   22   48000\n",
            "first two rows\n",
            "    Name  Age  Salary\n",
            "0  Alice   24   50000\n",
            "1    Bob   27   55000\n"
          ]
        }
      ],
      "source": [
        "import pandas as pd\n",
        "import numpy as np\n",
        "data={ 'Name': ['Alice', 'Bob', 'Carol'], 'Age': [24, 27, 22], 'Salary': [50000, 55000, 48000]}\n",
        "df1=pd.DataFrame(data)\n",
        "print(df1)\n",
        "#first two rows\n",
        "print(\"first two rows\")\n",
        "print(df1.head(2))"
      ]
    },
    {
      "cell_type": "code",
      "source": [],
      "metadata": {
        "id": "bsB4R0DcneCX"
      },
      "execution_count": null,
      "outputs": []
    },
    {
      "cell_type": "markdown",
      "source": [
        "data = { 'Name': ['Alice', 'Bob', 'Carol'], 'Age': [24, 27, 22], 'Salary': [50000, 55000, 48000] }\n",
        "Compute the mean salary."
      ],
      "metadata": {
        "id": "2UuqXzDEntHW"
      }
    },
    {
      "cell_type": "code",
      "source": [
        "import pandas as pd\n",
        "import numpy as np\n",
        "data={ 'Name': ['Alice', 'Bob', 'Carol'], 'Age': [24, 27, 22], 'Salary': [50000, 55000, 48000]}\n",
        "df1=pd.DataFrame(data)\n",
        "print(df1)\n",
        "#mean of salary\n",
        "print(\"mean of salary\",df1['Salary'].mean())"
      ],
      "metadata": {
        "id": "5J_G8eV1nz-Z",
        "colab": {
          "base_uri": "https://localhost:8080/"
        },
        "outputId": "d41043e2-0934-4edd-8f2b-94a2dbe31df2"
      },
      "execution_count": 15,
      "outputs": [
        {
          "output_type": "stream",
          "name": "stdout",
          "text": [
            "    Name  Age  Salary\n",
            "0  Alice   24   50000\n",
            "1    Bob   27   55000\n",
            "2  Carol   22   48000\n",
            "51000.0\n"
          ]
        }
      ]
    },
    {
      "cell_type": "markdown",
      "source": [
        " Extract all rows where the Age is greater than 25."
      ],
      "metadata": {
        "id": "slXWfxLJoqzN"
      }
    },
    {
      "cell_type": "code",
      "source": [
        "import pandas as pd\n",
        "import numpy as np\n",
        "data={ 'Name': ['Alice', 'Bob', 'Carol'], 'Age': [24, 27, 22], 'Salary': [50000, 55000, 48000]}\n",
        "df1=pd.DataFrame(data)\n",
        "print(df1)\n",
        "# rows greater than 25\n",
        "print(\"rows greater than 25\")\n",
        "print(df1[df1['Age']>25])"
      ],
      "metadata": {
        "id": "if4SVq8Kor8U"
      },
      "execution_count": null,
      "outputs": []
    },
    {
      "cell_type": "markdown",
      "source": [
        "Filter out rows where the Salary is less than 50000."
      ],
      "metadata": {
        "id": "VQicHA2HqC5h"
      }
    },
    {
      "cell_type": "code",
      "source": [
        "import pandas as pd\n",
        "import numpy as np\n",
        "data={ 'Name': ['Alice', 'Bob', 'Carol'], 'Age': [24, 27, 22], 'Salary': [50000, 55000, 48000]}\n",
        "df1=pd.DataFrame(data)\n",
        "print(df1)\n",
        "print(\"after filtering\")\n",
        "print(df1[df1['Salary']>50000])"
      ],
      "metadata": {
        "colab": {
          "base_uri": "https://localhost:8080/"
        },
        "id": "-nvk4SKUqGqQ",
        "outputId": "10007c9c-ac28-4983-fc46-dce463721dfd"
      },
      "execution_count": 19,
      "outputs": [
        {
          "output_type": "stream",
          "name": "stdout",
          "text": [
            "    Name  Age  Salary\n",
            "0  Alice   24   50000\n",
            "1    Bob   27   55000\n",
            "2  Carol   22   48000\n",
            "after filtering\n",
            "  Name  Age  Salary\n",
            "1  Bob   27   55000\n"
          ]
        }
      ]
    },
    {
      "cell_type": "markdown",
      "source": [
        "data = {\n",
        "'A': [1, 2, None, 4],\n",
        "'B': [None, 2, 3, None],\n",
        "'C': [1, 2, 3, 4]\n",
        "}\n",
        "df = pd.DataFrame(data)\n",
        "• Fill missing values in column A with the mean of the column."
      ],
      "metadata": {
        "id": "e-gT06a2qrR-"
      }
    },
    {
      "cell_type": "code",
      "source": [
        "import pandas as pd\n",
        "data={ 'A': [1, 2, None, 4], 'B': [None, 2, 3, None], 'C': [1, 2, 3, 4] }\n",
        "df1=pd.DataFrame(data)\n",
        "print(df1)\n",
        "print(\"mean of A\")\n",
        "mean=df1['A'].mean()\n",
        "print(mean)\n",
        "df1['A'].fillna(mean,inplace=True)\n",
        "print(df1)"
      ],
      "metadata": {
        "colab": {
          "base_uri": "https://localhost:8080/"
        },
        "id": "7ObDqUKiqxDl",
        "outputId": "f14eaa49-2a4a-4914-c7c2-7e4817698d4a"
      },
      "execution_count": 26,
      "outputs": [
        {
          "output_type": "stream",
          "name": "stdout",
          "text": [
            "     A    B  C\n",
            "0  1.0  NaN  1\n",
            "1  2.0  2.0  2\n",
            "2  NaN  3.0  3\n",
            "3  4.0  NaN  4\n",
            "mean of A\n",
            "2.3333333333333335\n",
            "          A    B  C\n",
            "0  1.000000  NaN  1\n",
            "1  2.000000  2.0  2\n",
            "2  2.333333  3.0  3\n",
            "3  4.000000  NaN  4\n"
          ]
        },
        {
          "output_type": "stream",
          "name": "stderr",
          "text": [
            "<ipython-input-26-9b055db1d9b0>:8: FutureWarning: A value is trying to be set on a copy of a DataFrame or Series through chained assignment using an inplace method.\n",
            "The behavior will change in pandas 3.0. This inplace method will never work because the intermediate object on which we are setting values always behaves as a copy.\n",
            "\n",
            "For example, when doing 'df[col].method(value, inplace=True)', try using 'df.method({col: value}, inplace=True)' or df[col] = df[col].method(value) instead, to perform the operation inplace on the original object.\n",
            "\n",
            "\n",
            "  df1['A'].fillna(mean,inplace=True)\n"
          ]
        }
      ]
    },
    {
      "cell_type": "markdown",
      "source": [
        "Drop rows where all values are None."
      ],
      "metadata": {
        "id": "n1z1nvOSsRvc"
      }
    },
    {
      "cell_type": "code",
      "source": [
        "import pandas as pd\n",
        "data={ 'A': [1, 2, None, 4], 'B': [None, 2, 3, None], 'C': [1, 2, 3, 4] }\n",
        "df1=pd.DataFrame(data)\n",
        "print(df1)\n",
        "df1.dropna(how='all',inplace=True)\n",
        "print(df1)"
      ],
      "metadata": {
        "colab": {
          "base_uri": "https://localhost:8080/"
        },
        "id": "uW0evmBxsVPI",
        "outputId": "4efc5826-ea86-4f3f-8268-581787dd1019"
      },
      "execution_count": 28,
      "outputs": [
        {
          "output_type": "stream",
          "name": "stdout",
          "text": [
            "     A    B  C\n",
            "0  1.0  NaN  1\n",
            "1  2.0  2.0  2\n",
            "2  NaN  3.0  3\n",
            "3  4.0  NaN  4\n",
            "     A    B  C\n",
            "0  1.0  NaN  1\n",
            "1  2.0  2.0  2\n",
            "2  NaN  3.0  3\n",
            "3  4.0  NaN  4\n"
          ]
        }
      ]
    },
    {
      "cell_type": "code",
      "source": [],
      "metadata": {
        "id": "LMrkJQ3ItOBs"
      },
      "execution_count": null,
      "outputs": []
    },
    {
      "cell_type": "markdown",
      "source": [
        " Create a DataFrame for employees:\n",
        "data = {\n",
        "'Department': ['HR', 'HR', 'IT', 'IT', 'Finance'],\n",
        "'Employee': ['Alice', 'Bob', 'Carol', 'David', 'Eve'],\n",
        "'Salary': [50000, 45000, 60000, 65000, 70000]\n",
        "}\n",
        "• Group the data by Department and compute the total and mean salary for each\n",
        "department."
      ],
      "metadata": {
        "id": "P8oaHyJCuGNk"
      }
    },
    {
      "cell_type": "code",
      "source": [
        "import pandas as pd\n",
        "data= { 'Department': ['HR', 'HR', 'IT', 'IT', 'Finance'], 'Employee': ['Alice', 'Bob', 'Carol', 'David', 'Eve'], 'Salary': [50000, 45000, 60000, 65000, 70000] }\n",
        "df1=pd.DataFrame(data)\n",
        "\n",
        "#print(df1)\n",
        "#groupby(df1['Department'])\n",
        "print(df1.groupby('Department').agg({'Salary':['mean']}))\n",
        "df1.rename(columns={'mean':'mean salary'})\n",
        "#print(df1)\n",
        "\n"
      ],
      "metadata": {
        "collapsed": true,
        "id": "b9ycKugtuLA3"
      },
      "execution_count": null,
      "outputs": []
    },
    {
      "cell_type": "markdown",
      "source": [
        "df1 = pd.DataFrame({'ID': [1, 2, 3], 'Name': ['Alice', 'Bob', 'Carol']})\n",
        "df2 = pd.DataFrame({'ID': [2, 3, 4], 'Age': [25, 30, 22]})\n",
        "• Perform an inner join on the ID column."
      ],
      "metadata": {
        "id": "dVgsXIdSw69X"
      }
    },
    {
      "cell_type": "code",
      "source": [
        "import pandas as pd\n",
        "df1 = pd.DataFrame({'ID': [1, 2, 3], 'Name': ['Alice', 'Bob', 'Carol']})\n",
        "print(df1)\n",
        "df2 = pd.DataFrame({'ID': [2, 3, 4], 'Age': [25, 30, 22]})\n",
        "print(df2)\n",
        "print(\"inner join\")\n",
        "print(pd.merge(df1,df2,on='ID',how='inner'))\n"
      ],
      "metadata": {
        "colab": {
          "base_uri": "https://localhost:8080/"
        },
        "id": "T3u9Zu-hxBHk",
        "outputId": "de83e194-a53b-4d12-831a-b4aae5cd7470"
      },
      "execution_count": 40,
      "outputs": [
        {
          "output_type": "stream",
          "name": "stdout",
          "text": [
            "   ID   Name\n",
            "0   1  Alice\n",
            "1   2    Bob\n",
            "2   3  Carol\n",
            "   ID  Age\n",
            "0   2   25\n",
            "1   3   30\n",
            "2   4   22\n",
            "inner join\n",
            "   ID   Name  Age\n",
            "0   2    Bob   25\n",
            "1   3  Carol   30\n"
          ]
        }
      ]
    },
    {
      "cell_type": "markdown",
      "source": [
        " Given a small dataset, clean and display basic statistics using Pandas."
      ],
      "metadata": {
        "id": "_w923RNMyl9u"
      }
    },
    {
      "cell_type": "code",
      "source": [
        "import pandas as pd\n",
        "data={ 'A': [1, 2, None, 4], 'B': [None, 2, 3, None], 'C': [1, 2, 3, 4] }\n",
        "df1=pd.DataFrame(data)\n",
        "print(df1)\n"
      ],
      "metadata": {
        "colab": {
          "base_uri": "https://localhost:8080/"
        },
        "id": "pcJXeilwzJgB",
        "outputId": "4e400c38-979f-425b-81f5-3337cdb44e20"
      },
      "execution_count": 41,
      "outputs": [
        {
          "output_type": "stream",
          "name": "stdout",
          "text": [
            "     A    B  C\n",
            "0  1.0  NaN  1\n",
            "1  2.0  2.0  2\n",
            "2  NaN  3.0  3\n",
            "3  4.0  NaN  4\n"
          ]
        }
      ]
    }
  ]
}